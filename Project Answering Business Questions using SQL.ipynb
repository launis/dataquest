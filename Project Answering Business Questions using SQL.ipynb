{
 "cells": [
  {
   "cell_type": "markdown",
   "metadata": {
    "collapsed": true
   },
   "source": [
    "# Answering Business Questions using SQL"
   ]
  },
  {
   "cell_type": "code",
   "execution_count": 1,
   "metadata": {
    "collapsed": true
   },
   "outputs": [],
   "source": [
    "import pandas as pd\n",
    "import sqlite3\n",
    "import matplotlib.pyplot as plt\n",
    "%matplotlib inline"
   ]
  },
  {
   "cell_type": "code",
   "execution_count": 2,
   "metadata": {
    "collapsed": true
   },
   "outputs": [],
   "source": [
    "def run_query(q):\n",
    "    with sqlite3.connect('chinook.db') as conn:\n",
    "        return pd.read_sql(q, conn)"
   ]
  },
  {
   "cell_type": "code",
   "execution_count": 3,
   "metadata": {
    "collapsed": false
   },
   "outputs": [],
   "source": [
    "def run_command(c):\n",
    "    with sqlite3.connect('chinook.db') as conn:\n",
    "        conn.isolation_level = None\n",
    "        conn.execute(c)"
   ]
  },
  {
   "cell_type": "code",
   "execution_count": 4,
   "metadata": {
    "collapsed": false
   },
   "outputs": [],
   "source": [
    "def show_tables():\n",
    "    q='SELECT name, type FROM sqlite_master WHERE type IN (\"table\",\"view\");'\n",
    "    return(run_query(q))"
   ]
  },
  {
   "cell_type": "code",
   "execution_count": 5,
   "metadata": {
    "collapsed": false
   },
   "outputs": [
    {
     "data": {
      "text/html": [
       "<div>\n",
       "<style scoped>\n",
       "    .dataframe tbody tr th:only-of-type {\n",
       "        vertical-align: middle;\n",
       "    }\n",
       "\n",
       "    .dataframe tbody tr th {\n",
       "        vertical-align: top;\n",
       "    }\n",
       "\n",
       "    .dataframe thead th {\n",
       "        text-align: right;\n",
       "    }\n",
       "</style>\n",
       "<table border=\"1\" class=\"dataframe\">\n",
       "  <thead>\n",
       "    <tr style=\"text-align: right;\">\n",
       "      <th></th>\n",
       "      <th>name</th>\n",
       "      <th>type</th>\n",
       "    </tr>\n",
       "  </thead>\n",
       "  <tbody>\n",
       "    <tr>\n",
       "      <th>0</th>\n",
       "      <td>album</td>\n",
       "      <td>table</td>\n",
       "    </tr>\n",
       "    <tr>\n",
       "      <th>1</th>\n",
       "      <td>artist</td>\n",
       "      <td>table</td>\n",
       "    </tr>\n",
       "    <tr>\n",
       "      <th>2</th>\n",
       "      <td>customer</td>\n",
       "      <td>table</td>\n",
       "    </tr>\n",
       "    <tr>\n",
       "      <th>3</th>\n",
       "      <td>employee</td>\n",
       "      <td>table</td>\n",
       "    </tr>\n",
       "    <tr>\n",
       "      <th>4</th>\n",
       "      <td>genre</td>\n",
       "      <td>table</td>\n",
       "    </tr>\n",
       "    <tr>\n",
       "      <th>5</th>\n",
       "      <td>invoice</td>\n",
       "      <td>table</td>\n",
       "    </tr>\n",
       "    <tr>\n",
       "      <th>6</th>\n",
       "      <td>invoice_line</td>\n",
       "      <td>table</td>\n",
       "    </tr>\n",
       "    <tr>\n",
       "      <th>7</th>\n",
       "      <td>media_type</td>\n",
       "      <td>table</td>\n",
       "    </tr>\n",
       "    <tr>\n",
       "      <th>8</th>\n",
       "      <td>playlist</td>\n",
       "      <td>table</td>\n",
       "    </tr>\n",
       "    <tr>\n",
       "      <th>9</th>\n",
       "      <td>playlist_track</td>\n",
       "      <td>table</td>\n",
       "    </tr>\n",
       "    <tr>\n",
       "      <th>10</th>\n",
       "      <td>track</td>\n",
       "      <td>table</td>\n",
       "    </tr>\n",
       "  </tbody>\n",
       "</table>\n",
       "</div>"
      ],
      "text/plain": [
       "              name   type\n",
       "0            album  table\n",
       "1           artist  table\n",
       "2         customer  table\n",
       "3         employee  table\n",
       "4            genre  table\n",
       "5          invoice  table\n",
       "6     invoice_line  table\n",
       "7       media_type  table\n",
       "8         playlist  table\n",
       "9   playlist_track  table\n",
       "10           track  table"
      ]
     },
     "execution_count": 5,
     "metadata": {},
     "output_type": "execute_result"
    }
   ],
   "source": [
    "show_tables()"
   ]
  },
  {
   "cell_type": "markdown",
   "metadata": {},
   "source": [
    "SELECT\n",
    "  g.name genre_name,\n",
    "  sum(t.track_id) sum_of_tracks,\n",
    "  100*sum(t.track_id)/(\n",
    "    SELECT\n",
    "        sum(t.track_id) sum_of_tracks\n",
    "            FROM invoice_line il\n",
    "            INNER JOIN track t ON t.track_id = il.track_id\n",
    "            INNER JOIN invoice i ON i.invoice_id = il.invoice_id\n",
    "            INNER JOIN customer c ON c.customer_id = i.customer_id\n",
    "        WHERE country = \"USA\"\n",
    "    ) Share\n",
    "FROM invoice_line il\n",
    "INNER JOIN track t ON t.track_id = il.track_id\n",
    "INNER JOIN genre g on g.genre_id = t.genre_id\n",
    "INNER JOIN invoice i ON i.invoice_id = il.invoice_id\n",
    "INNER JOIN customer c ON c.customer_id = i.customer_id\n",
    "WHERE country = \"USA\"\n",
    "GROUP BY 1"
   ]
  },
  {
   "cell_type": "code",
   "execution_count": 6,
   "metadata": {
    "collapsed": false
   },
   "outputs": [],
   "source": [
    "q=\"\"\"\\\n",
    "SELECT\n",
    "      g.name genre_name,\n",
    "      sum(t.track_id) sum_of_tracks,\n",
    "  100*sum(t.track_id)/(\n",
    "    SELECT\n",
    "        sum(t.track_id) sum_of_tracks\n",
    "            FROM invoice_line il\n",
    "            INNER JOIN track t ON t.track_id = il.track_id\n",
    "            INNER JOIN invoice i ON i.invoice_id = il.invoice_id\n",
    "            INNER JOIN customer c ON c.customer_id = i.customer_id\n",
    "        WHERE country = \"USA\"\n",
    "    ) Share\n",
    "FROM invoice_line il\n",
    "INNER JOIN track t ON t.track_id = il.track_id\n",
    "INNER JOIN genre g on g.genre_id = t.genre_id\n",
    "INNER JOIN invoice i ON i.invoice_id = il.invoice_id\n",
    "INNER JOIN customer c ON c.customer_id = i.customer_id\n",
    "WHERE country = \"USA\"\n",
    "GROUP BY 1\n",
    "\"\"\"\n",
    "genre_sales_usa = run_query(q)"
   ]
  },
  {
   "cell_type": "code",
   "execution_count": 7,
   "metadata": {
    "collapsed": false
   },
   "outputs": [],
   "source": [
    "genre_sales_usa['sum_of_tracks']=genre_sales_usa['sum_of_tracks'].astype('float')\n",
    "genre_sales_usa['Share']=genre_sales_usa['Share'].astype('float')"
   ]
  },
  {
   "cell_type": "code",
   "execution_count": 8,
   "metadata": {
    "collapsed": false
   },
   "outputs": [
    {
     "data": {
      "text/plain": [
       "<matplotlib.axes._subplots.AxesSubplot at 0x7fc9d42124e0>"
      ]
     },
     "execution_count": 8,
     "metadata": {},
     "output_type": "execute_result"
    },
    {
     "data": {
      "image/png": "[encoded data removed]",
      "text/plain": [
       "<matplotlib.figure.Figure at 0x7fc9d425cef0>"
      ]
     },
     "metadata": {},
     "output_type": "display_data"
    }
   ],
   "source": [
    "genre_sales_usa.plot.bar(x='genre_name', y='sum_of_tracks')"
   ]
  },
  {
   "cell_type": "markdown",
   "metadata": {},
   "source": [
    "Rock and roll"
   ]
  },
  {
   "cell_type": "code",
   "execution_count": 9,
   "metadata": {
    "collapsed": true
   },
   "outputs": [],
   "source": [
    "q=\"\"\"\\\n",
    "         SELECT\n",
    "            e.first_name || \" \" || e.last_name employee_name,\n",
    "            e.hire_date hired,\n",
    "            COUNT(c.customer_id) customer_amount,\n",
    "            SUM(i.total) total\n",
    "            FROM invoice i\n",
    "                left JOIN customer c ON c.customer_id = i.customer_id\n",
    "                left JOIN employee e ON e.employee_id = c.support_rep_id\n",
    "            GROUP BY e.employee_id \n",
    "\n",
    "\"\"\"\n",
    "sales = run_query(q)\n"
   ]
  },
  {
   "cell_type": "code",
   "execution_count": 10,
   "metadata": {
    "collapsed": false
   },
   "outputs": [
    {
     "name": "stdout",
     "output_type": "stream",
     "text": [
      "   employee_name                hired  customer_amount    total\n",
      "0   Jane Peacock  2017-04-01 00:00:00              212  1731.51\n",
      "1  Margaret Park  2017-05-03 00:00:00              214  1584.00\n",
      "2  Steve Johnson  2017-10-17 00:00:00              188  1393.92\n"
     ]
    }
   ],
   "source": [
    "print(sales)"
   ]
  },
  {
   "cell_type": "markdown",
   "metadata": {
    "collapsed": true
   },
   "source": [
    "Date when hired"
   ]
  },
  {
   "cell_type": "code",
   "execution_count": 11,
   "metadata": {
    "collapsed": true
   },
   "outputs": [],
   "source": [
    "q=\"\"\"\\\n",
    "  SELECT\n",
    "            c.country country,\n",
    "            COUNT(DISTINCT(c.customer_id)) number_of_customers,\n",
    "            COUNT(i.invoice_id) orders,\n",
    "            SUM(i.total) total_value_of_sales,\n",
    "            (SUM(i.total)/COUNT(DISTINCT(c.customer_id))) average_value_of_sales_per_customer,\n",
    "            AVG(i.total) average_order_value\n",
    "            FROM invoice i\n",
    "                INNER JOIN customer c ON c.customer_id = i.customer_id\n",
    "            GROUP BY country\n",
    "\"\"\"\n",
    "list = run_query(q)\n"
   ]
  },
  {
   "cell_type": "markdown",
   "metadata": {},
   "source": [
    "Easier to do the \"Others\" with Pandas"
   ]
  },
  {
   "cell_type": "code",
   "execution_count": 12,
   "metadata": {
    "collapsed": false
   },
   "outputs": [
    {
     "name": "stdout",
     "output_type": "stream",
     "text": [
      "           country  number_of_customers  orders  total_value_of_sales  \\\n",
      "4           Brazil                    5      61                427.68   \n",
      "5           Canada                    8      76                535.59   \n",
      "7   Czech Republic                    2      30                273.24   \n",
      "10          France                    5      50                389.07   \n",
      "11         Germany                    4      41                334.62   \n",
      "13           India                    2      21                183.15   \n",
      "19        Portugal                    2      29                185.13   \n",
      "22             USA                   13     131               1040.49   \n",
      "23  United Kingdom                    3      28                245.52   \n",
      "24           Other                   15     147               1094.94   \n",
      "\n",
      "    average_value_of_sales_per_customer  average_order_value  \n",
      "4                             85.536000             7.011148  \n",
      "5                             66.948750             7.047237  \n",
      "7                            136.620000             9.108000  \n",
      "10                            77.814000             7.781400  \n",
      "11                            83.655000             8.161463  \n",
      "13                            91.575000             8.721429  \n",
      "19                            92.565000             6.383793  \n",
      "22                            80.037692             7.942672  \n",
      "23                            81.840000             8.768571  \n",
      "24                            72.996000             7.448571  \n"
     ]
    }
   ],
   "source": [
    "number_of_customers = list[list['number_of_customers'] == 1].sum()[1]\n",
    "orders =  list[list['number_of_customers'] == 1].sum()[2]\n",
    "total_value_of_sales =  list[list['number_of_customers'] == 1].sum()[3]\n",
    "average_value_of_sales_per_customer = total_value_of_sales / number_of_customers\n",
    "average_order_value = total_value_of_sales / orders\n",
    "new_row = {'country':'Other', 'number_of_customers':number_of_customers, 'orders':orders, 'total_value_of_sales':total_value_of_sales,'average_value_of_sales_per_customer':average_value_of_sales_per_customer, 'average_order_value': average_order_value}\n",
    "list = list.append(new_row, ignore_index=True)\n",
    "list = list.drop(list[list['number_of_customers'] == 1].index)\n",
    "print(list)"
   ]
  },
  {
   "cell_type": "code",
   "execution_count": 13,
   "metadata": {
    "collapsed": false
   },
   "outputs": [],
   "source": [
    "q=\"\"\"\\\n",
    "WITH invoice_first_track AS\n",
    "    (\n",
    "     SELECT\n",
    "         il.invoice_id invoice_id,\n",
    "         MIN(il.track_id) first_track_id\n",
    "     FROM invoice_line il\n",
    "     GROUP BY 1\n",
    "    ),\n",
    "    \n",
    "    album AS\n",
    "    (\n",
    "    SELECT t.album_id album_id\n",
    "    FROM track t \n",
    "    WHERE t.track_id = ifs.first_track_id\n",
    "    ),\n",
    "    \n",
    "    album_tracks AS\n",
    "    (\n",
    "    SELECT t.track_id track_id\n",
    "    FROM track t    \n",
    "    WHERE t.album_id = (SELECT album_id FROM album)\n",
    "    ),\n",
    "\n",
    "    invoice_tracks AS\n",
    "    (\n",
    "    SELECT il.track_id track_id\n",
    "    FROM invoice_line il\n",
    "    WHERE il.invoice_id = ifs.invoice_id\n",
    "    )\n",
    "\n",
    "SELECT\n",
    "    album_purchase,\n",
    "    COUNT(invoice_id) number_of_invoices,\n",
    "    CAST(COUNT(invoice_id) AS FLOAT) / (SELECT COUNT(invoice_id) FROM invoice) percent\n",
    "\n",
    "FROM\n",
    "    (\n",
    "    SELECT\n",
    "        ifs.*,\n",
    "        CASE\n",
    "            WHEN\n",
    "                (\n",
    "                SELECT track_id \n",
    "                FROM album_tracks\n",
    "    \n",
    "                EXCEPT\n",
    "    \n",
    "                SELECT track_id \n",
    "                FROM invoice_tracks\n",
    "                )\n",
    "                IS NULL\n",
    "                \n",
    "                AND\n",
    "                \n",
    "                (\n",
    "                SELECT track_id \n",
    "                FROM invoice_tracks\n",
    "\n",
    "                EXCEPT \n",
    "\n",
    "                SELECT track_id \n",
    "                FROM album_tracks\n",
    "                )\n",
    "                IS NULL\n",
    "    \n",
    "             THEN \"yes\"\n",
    "             ELSE \"no\"\n",
    "         END AS \"album_purchase\"\n",
    "     FROM invoice_first_track ifs\n",
    "    )\n",
    "GROUP BY album_purchase;\n",
    "\n",
    "\n",
    "\"\"\"\n",
    "sales = run_query(q)\n"
   ]
  },
  {
   "cell_type": "code",
   "execution_count": 14,
   "metadata": {
    "collapsed": false
   },
   "outputs": [
    {
     "data": {
      "text/html": [
       "<div>\n",
       "<style scoped>\n",
       "    .dataframe tbody tr th:only-of-type {\n",
       "        vertical-align: middle;\n",
       "    }\n",
       "\n",
       "    .dataframe tbody tr th {\n",
       "        vertical-align: top;\n",
       "    }\n",
       "\n",
       "    .dataframe thead th {\n",
       "        text-align: right;\n",
       "    }\n",
       "</style>\n",
       "<table border=\"1\" class=\"dataframe\">\n",
       "  <thead>\n",
       "    <tr style=\"text-align: right;\">\n",
       "      <th></th>\n",
       "      <th>album_purchase</th>\n",
       "      <th>number_of_invoices</th>\n",
       "      <th>percent</th>\n",
       "    </tr>\n",
       "  </thead>\n",
       "  <tbody>\n",
       "    <tr>\n",
       "      <th>0</th>\n",
       "      <td>no</td>\n",
       "      <td>500</td>\n",
       "      <td>0.814332</td>\n",
       "    </tr>\n",
       "    <tr>\n",
       "      <th>1</th>\n",
       "      <td>yes</td>\n",
       "      <td>114</td>\n",
       "      <td>0.185668</td>\n",
       "    </tr>\n",
       "  </tbody>\n",
       "</table>\n",
       "</div>"
      ],
      "text/plain": [
       "  album_purchase  number_of_invoices   percent\n",
       "0             no                 500  0.814332\n",
       "1            yes                 114  0.185668"
      ]
     },
     "execution_count": 14,
     "metadata": {},
     "output_type": "execute_result"
    }
   ],
   "source": [
    "sales"
   ]
  }
 ],
 "metadata": {
  "kernelspec": {
   "display_name": "Python 3",
   "language": "python",
   "name": "python3"
  },
  "language_info": {
   "codemirror_mode": {
    "name": "ipython",
    "version": 3
   },
   "file_extension": ".py",
   "mimetype": "text/x-python",
   "name": "python",
   "nbconvert_exporter": "python",
   "pygments_lexer": "ipython3",
   "version": "3.4.3"
  }
 },
 "nbformat": 4,
 "nbformat_minor": 2
}
